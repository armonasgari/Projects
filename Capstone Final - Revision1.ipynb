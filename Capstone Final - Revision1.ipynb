{
 "cells": [
  {
   "cell_type": "markdown",
   "metadata": {},
   "source": [
    "# <font color=navy>Capstone Project: Tips per Pass</font>\n",
    "\n",
    "### <font color=navy>The Story of the Social Impacts # of Passengers has on Tips for Yellow Taxis in New York City, January 2018</font>\n",
    "#### <font color=navy>By Armon Asgari</font>\n",
    "\n",
    "Github: https://github.com/armonasgari/Projects.git\n",
    "\n",
    "\n",
    "# <font color=orange>Data Summary and Citation</font>\n",
    "Data came from:\n",
    "\n",
    "NYC Taxi and Limousine Commission (TLC). (2018). Trip Sheet Data (CSV Format) 2018 January Yellow [Data File]. Available from NYC Taxi and Limousine Commission (TLC) site: http://www.nyc.gov/html/tlc/html/about/trip_record_data.shtml\n",
    "\n",
    "This Capstone project will automatically pull the data from the website. If you wish to Download the data locally, navigate to __\"Trip Sheet Data (CSV Format)\" > \"2018\" > \"January\" > \"Yellow\"__:\n",
    "https://s3.amazonaws.com/nyc-tlc/trip+data/yellow_tripdata_2018-01.csv\n",
    "\n",
    "This Data was accompanied by a Data Dictionary which explained what each column and its variables mean. The following is the citation and the link to the Data Dictionary:\n",
    "\n",
    "NYC Taxi and Limousine Commission (TLC). (2018). Data Dictionary – Yellow Taxi Trip Records [PDF file]. Retrieved from https://s3.amazonaws.com/nyc-tlc/trip+data/yellow_tripdata_2018-01.csv\n",
    "\n",
    "\n",
    "***\n",
    "# <font color=orange>1. Data Extraction</font>\n",
    "The reason January 2018 data was chosen is because the weather conditions in New York City during January are both very cold and often times very snowy, which translates to more cab rides than would otherwise be taken in lieu of walking during better weather conditions.\n",
    "\n",
    "The reason __only__ January 2018 was chosen was because there were 8.75 million rides given in January 2018 alone before the data has been cleaned and filtered. Using a full years worth of data would be better in a sense that it would account for differences in weather, overall moods of the population during certain months, and other biasies depending on time of year. We will move forward with the analyis knowing this is a weakness.\n",
    "\n",
    "The data also contained a Dictionary which explained the columns and the data they contained. The Dictionary of Data for Yellow Cabs is as follows:\n",
    "http://www.nyc.gov/html/tlc/downloads/pdf/data_dictionary_trip_records_yellow.pdf\n",
    "\n",
    "Brief descriptions of columns are as follows:\n",
    "- __VendorID__ - This tells us what Taxi Fare Payment System was used, either Creative Mobile Technologies or VeriFone Inc.. <font color=red>Either way the data is not relevant to our needs with this analysis and the column will be deleted</font>\n",
    "- __tpep_pickup_datetime__ - Date and time of customer pickup\n",
    "- __tpep_dropoff_datetime__ - Date and time the same customer was dropped off\n",
    "- __passenger_count__ - Number of passengers per taxi ride; this information is very relevant to our test. <font color=red>There are some rows of passenger_count data that has the value 0. We will remove these values since at least 1 passenger is needed to pay a taxi fare</font>\n",
    "- __trip_distance__ - Distance traveled provided by taximeter, in miles; relevant for calculating the fare cost.\n",
    "- __PULocationID__ - Location of taxi pickup\n",
    "- __DOLocationID__ - Location of taxi dropoff\n",
    "- __RateCodeID__ - This code indicated if the fare was a Standard Fare, an Airport Fare, a \"Nassau or Westchester\" Fare, Negotiated Fare, or Group Fare. <font color=red>In this case we will only use Standard Fare (Standard Fare = 1) to remove unknown/biased variables.</font>\n",
    "- __Store_and_fwd_flag__ - If a taxi was having issues connecting to server, the fare would be logged as a \"Store and Forward\" meaning it would store the payment and fare information until it connected to the server again to tramsmit the data. <font color=red>For this part we will remove all of the \"Yes\" values as part of the data cleaning incase there are issues with the data that was collected, and then after removing the effected rows, we will delete the column because we so not need to information.</font>\n",
    "- __Payment_type__ - Whether Credit Card, Cash, No Charge, Dispute, Unknown or Voided charges were used as payment for each ride. <font color=red>This section will be cleaned by deleting all rows besides Credit Card because only Credit Cards display tip amounts in the Tip_amount columns.</font>\n",
    "- __Fare_amount__ - Base fare amount without taxes, surcharges, and tips included\n",
    "- __Extra__ - any additional surcharges\n",
    "- __MTA_tax__ - \\\\$0.50 tax paid on every fare\n",
    "- __Improvement_surcharge__ - \\\\$0.30 improvement surcharge, added to every fare.\n",
    "- __Tip_amount__ - Amount of money tiped per ride. Only recorded if Credit Card was used.\n",
    "- __Tolls_amount__ - Toll charges if any toll roads were used.\n",
    "- __Total_amount__ - Total fare including base fare, tax, surcharges, and tips\n",
    "\n",
    "\n",
    "### In this Capstone Project, the question we will be trying to answer is:\n",
    "#### Is the amount of money tipped by taxi customers effected by the amount of passengers in the taxi?\n",
    "The goal is to see if there is a social impact of whether or not a single customer tips as much or as frequently as if a person is riding with others.\n",
    "\n",
    "## $\\mu$0 : Increasing passenger count has no effect on tip amount\n",
    "## $\\mu$1 : Increasing passenger count has a positive effect on tip amount"
   ]
  },
  {
   "cell_type": "code",
   "execution_count": 1,
   "metadata": {},
   "outputs": [
    {
     "data": {
      "text/html": [
       "<div>\n",
       "<style scoped>\n",
       "    .dataframe tbody tr th:only-of-type {\n",
       "        vertical-align: middle;\n",
       "    }\n",
       "\n",
       "    .dataframe tbody tr th {\n",
       "        vertical-align: top;\n",
       "    }\n",
       "\n",
       "    .dataframe thead th {\n",
       "        text-align: right;\n",
       "    }\n",
       "</style>\n",
       "<table border=\"1\" class=\"dataframe\">\n",
       "  <thead>\n",
       "    <tr style=\"text-align: right;\">\n",
       "      <th></th>\n",
       "      <th>VendorID</th>\n",
       "      <th>tpep_pickup_datetime</th>\n",
       "      <th>tpep_dropoff_datetime</th>\n",
       "      <th>passenger_count</th>\n",
       "      <th>trip_distance</th>\n",
       "      <th>RatecodeID</th>\n",
       "      <th>store_and_fwd_flag</th>\n",
       "      <th>PULocationID</th>\n",
       "      <th>DOLocationID</th>\n",
       "      <th>payment_type</th>\n",
       "      <th>fare_amount</th>\n",
       "      <th>extra</th>\n",
       "      <th>mta_tax</th>\n",
       "      <th>tip_amount</th>\n",
       "      <th>tolls_amount</th>\n",
       "      <th>improvement_surcharge</th>\n",
       "      <th>total_amount</th>\n",
       "    </tr>\n",
       "  </thead>\n",
       "  <tbody>\n",
       "    <tr>\n",
       "      <th>0</th>\n",
       "      <td>1</td>\n",
       "      <td>2018-01-01 00:21:05</td>\n",
       "      <td>2018-01-01 00:24:23</td>\n",
       "      <td>1</td>\n",
       "      <td>0.5</td>\n",
       "      <td>1</td>\n",
       "      <td>N</td>\n",
       "      <td>41</td>\n",
       "      <td>24</td>\n",
       "      <td>2</td>\n",
       "      <td>4.5</td>\n",
       "      <td>0.5</td>\n",
       "      <td>0.5</td>\n",
       "      <td>0.00</td>\n",
       "      <td>0.0</td>\n",
       "      <td>0.3</td>\n",
       "      <td>5.80</td>\n",
       "    </tr>\n",
       "    <tr>\n",
       "      <th>1</th>\n",
       "      <td>1</td>\n",
       "      <td>2018-01-01 00:44:55</td>\n",
       "      <td>2018-01-01 01:03:05</td>\n",
       "      <td>1</td>\n",
       "      <td>2.7</td>\n",
       "      <td>1</td>\n",
       "      <td>N</td>\n",
       "      <td>239</td>\n",
       "      <td>140</td>\n",
       "      <td>2</td>\n",
       "      <td>14.0</td>\n",
       "      <td>0.5</td>\n",
       "      <td>0.5</td>\n",
       "      <td>0.00</td>\n",
       "      <td>0.0</td>\n",
       "      <td>0.3</td>\n",
       "      <td>15.30</td>\n",
       "    </tr>\n",
       "    <tr>\n",
       "      <th>2</th>\n",
       "      <td>1</td>\n",
       "      <td>2018-01-01 00:08:26</td>\n",
       "      <td>2018-01-01 00:14:21</td>\n",
       "      <td>2</td>\n",
       "      <td>0.8</td>\n",
       "      <td>1</td>\n",
       "      <td>N</td>\n",
       "      <td>262</td>\n",
       "      <td>141</td>\n",
       "      <td>1</td>\n",
       "      <td>6.0</td>\n",
       "      <td>0.5</td>\n",
       "      <td>0.5</td>\n",
       "      <td>1.00</td>\n",
       "      <td>0.0</td>\n",
       "      <td>0.3</td>\n",
       "      <td>8.30</td>\n",
       "    </tr>\n",
       "    <tr>\n",
       "      <th>3</th>\n",
       "      <td>1</td>\n",
       "      <td>2018-01-01 00:20:22</td>\n",
       "      <td>2018-01-01 00:52:51</td>\n",
       "      <td>1</td>\n",
       "      <td>10.2</td>\n",
       "      <td>1</td>\n",
       "      <td>N</td>\n",
       "      <td>140</td>\n",
       "      <td>257</td>\n",
       "      <td>2</td>\n",
       "      <td>33.5</td>\n",
       "      <td>0.5</td>\n",
       "      <td>0.5</td>\n",
       "      <td>0.00</td>\n",
       "      <td>0.0</td>\n",
       "      <td>0.3</td>\n",
       "      <td>34.80</td>\n",
       "    </tr>\n",
       "    <tr>\n",
       "      <th>4</th>\n",
       "      <td>1</td>\n",
       "      <td>2018-01-01 00:09:18</td>\n",
       "      <td>2018-01-01 00:27:06</td>\n",
       "      <td>2</td>\n",
       "      <td>2.5</td>\n",
       "      <td>1</td>\n",
       "      <td>N</td>\n",
       "      <td>246</td>\n",
       "      <td>239</td>\n",
       "      <td>1</td>\n",
       "      <td>12.5</td>\n",
       "      <td>0.5</td>\n",
       "      <td>0.5</td>\n",
       "      <td>2.75</td>\n",
       "      <td>0.0</td>\n",
       "      <td>0.3</td>\n",
       "      <td>16.55</td>\n",
       "    </tr>\n",
       "  </tbody>\n",
       "</table>\n",
       "</div>"
      ],
      "text/plain": [
       "   VendorID tpep_pickup_datetime tpep_dropoff_datetime  passenger_count  \\\n",
       "0         1  2018-01-01 00:21:05   2018-01-01 00:24:23                1   \n",
       "1         1  2018-01-01 00:44:55   2018-01-01 01:03:05                1   \n",
       "2         1  2018-01-01 00:08:26   2018-01-01 00:14:21                2   \n",
       "3         1  2018-01-01 00:20:22   2018-01-01 00:52:51                1   \n",
       "4         1  2018-01-01 00:09:18   2018-01-01 00:27:06                2   \n",
       "\n",
       "   trip_distance  RatecodeID store_and_fwd_flag  PULocationID  DOLocationID  \\\n",
       "0            0.5           1                  N            41            24   \n",
       "1            2.7           1                  N           239           140   \n",
       "2            0.8           1                  N           262           141   \n",
       "3           10.2           1                  N           140           257   \n",
       "4            2.5           1                  N           246           239   \n",
       "\n",
       "   payment_type  fare_amount  extra  mta_tax  tip_amount  tolls_amount  \\\n",
       "0             2          4.5    0.5      0.5        0.00           0.0   \n",
       "1             2         14.0    0.5      0.5        0.00           0.0   \n",
       "2             1          6.0    0.5      0.5        1.00           0.0   \n",
       "3             2         33.5    0.5      0.5        0.00           0.0   \n",
       "4             1         12.5    0.5      0.5        2.75           0.0   \n",
       "\n",
       "   improvement_surcharge  total_amount  \n",
       "0                    0.3          5.80  \n",
       "1                    0.3         15.30  \n",
       "2                    0.3          8.30  \n",
       "3                    0.3         34.80  \n",
       "4                    0.3         16.55  "
      ]
     },
     "execution_count": 1,
     "metadata": {},
     "output_type": "execute_result"
    }
   ],
   "source": [
    "import pandas as pd\n",
    "\n",
    "df = pd.read_table('https://s3.amazonaws.com/nyc-tlc/trip+data/yellow_tripdata_2018-01.csv', sep=',', header = 0)\n",
    "\n",
    "#the following commented lines were used for personal testing during this Project.\n",
    "#IF you would like to save the data locally instead of pulling from web, follow the link above\n",
    "#to the download the data and put your download path in line 9 below.\n",
    "\n",
    "#df = pd.read_csv(\"/Users/armon777/Desktop/yellow_tripdata_2018-01.csv\", sep=',', header=0)\n",
    "\n",
    "\n",
    "#df = pd.read_csv(\"/Users/armon777/Desktop/Test1.csv\", sep=',', header=0)\n",
    "\n",
    "df.head()"
   ]
  },
  {
   "cell_type": "markdown",
   "metadata": {},
   "source": [
    "After importing the Data from the website, we run the df.head() command to see what the columns are within the dataset, and types of data. Now we will see how many columns we have by using the df.tail() command."
   ]
  },
  {
   "cell_type": "code",
   "execution_count": 2,
   "metadata": {},
   "outputs": [
    {
     "data": {
      "text/html": [
       "<div>\n",
       "<style scoped>\n",
       "    .dataframe tbody tr th:only-of-type {\n",
       "        vertical-align: middle;\n",
       "    }\n",
       "\n",
       "    .dataframe tbody tr th {\n",
       "        vertical-align: top;\n",
       "    }\n",
       "\n",
       "    .dataframe thead th {\n",
       "        text-align: right;\n",
       "    }\n",
       "</style>\n",
       "<table border=\"1\" class=\"dataframe\">\n",
       "  <thead>\n",
       "    <tr style=\"text-align: right;\">\n",
       "      <th></th>\n",
       "      <th>VendorID</th>\n",
       "      <th>tpep_pickup_datetime</th>\n",
       "      <th>tpep_dropoff_datetime</th>\n",
       "      <th>passenger_count</th>\n",
       "      <th>trip_distance</th>\n",
       "      <th>RatecodeID</th>\n",
       "      <th>store_and_fwd_flag</th>\n",
       "      <th>PULocationID</th>\n",
       "      <th>DOLocationID</th>\n",
       "      <th>payment_type</th>\n",
       "      <th>fare_amount</th>\n",
       "      <th>extra</th>\n",
       "      <th>mta_tax</th>\n",
       "      <th>tip_amount</th>\n",
       "      <th>tolls_amount</th>\n",
       "      <th>improvement_surcharge</th>\n",
       "      <th>total_amount</th>\n",
       "    </tr>\n",
       "  </thead>\n",
       "  <tbody>\n",
       "    <tr>\n",
       "      <th>8759869</th>\n",
       "      <td>1</td>\n",
       "      <td>2018-01-31 23:21:35</td>\n",
       "      <td>2018-01-31 23:34:20</td>\n",
       "      <td>2</td>\n",
       "      <td>2.80</td>\n",
       "      <td>1</td>\n",
       "      <td>N</td>\n",
       "      <td>158</td>\n",
       "      <td>163</td>\n",
       "      <td>1</td>\n",
       "      <td>12.0</td>\n",
       "      <td>0.5</td>\n",
       "      <td>0.5</td>\n",
       "      <td>2.65</td>\n",
       "      <td>0.0</td>\n",
       "      <td>0.3</td>\n",
       "      <td>15.95</td>\n",
       "    </tr>\n",
       "    <tr>\n",
       "      <th>8759870</th>\n",
       "      <td>1</td>\n",
       "      <td>2018-01-31 23:35:51</td>\n",
       "      <td>2018-01-31 23:38:57</td>\n",
       "      <td>1</td>\n",
       "      <td>0.60</td>\n",
       "      <td>1</td>\n",
       "      <td>N</td>\n",
       "      <td>163</td>\n",
       "      <td>162</td>\n",
       "      <td>1</td>\n",
       "      <td>4.5</td>\n",
       "      <td>0.5</td>\n",
       "      <td>0.5</td>\n",
       "      <td>1.15</td>\n",
       "      <td>0.0</td>\n",
       "      <td>0.3</td>\n",
       "      <td>6.95</td>\n",
       "    </tr>\n",
       "    <tr>\n",
       "      <th>8759871</th>\n",
       "      <td>2</td>\n",
       "      <td>2018-01-31 23:28:00</td>\n",
       "      <td>2018-01-31 23:37:09</td>\n",
       "      <td>1</td>\n",
       "      <td>2.95</td>\n",
       "      <td>1</td>\n",
       "      <td>N</td>\n",
       "      <td>74</td>\n",
       "      <td>69</td>\n",
       "      <td>2</td>\n",
       "      <td>10.5</td>\n",
       "      <td>0.5</td>\n",
       "      <td>0.5</td>\n",
       "      <td>0.00</td>\n",
       "      <td>0.0</td>\n",
       "      <td>0.3</td>\n",
       "      <td>11.80</td>\n",
       "    </tr>\n",
       "    <tr>\n",
       "      <th>8759872</th>\n",
       "      <td>2</td>\n",
       "      <td>2018-01-31 23:24:40</td>\n",
       "      <td>2018-01-31 23:25:28</td>\n",
       "      <td>1</td>\n",
       "      <td>0.00</td>\n",
       "      <td>1</td>\n",
       "      <td>N</td>\n",
       "      <td>7</td>\n",
       "      <td>193</td>\n",
       "      <td>2</td>\n",
       "      <td>0.0</td>\n",
       "      <td>0.0</td>\n",
       "      <td>0.0</td>\n",
       "      <td>0.00</td>\n",
       "      <td>0.0</td>\n",
       "      <td>0.0</td>\n",
       "      <td>0.00</td>\n",
       "    </tr>\n",
       "    <tr>\n",
       "      <th>8759873</th>\n",
       "      <td>2</td>\n",
       "      <td>2018-01-31 23:28:16</td>\n",
       "      <td>2018-01-31 23:28:38</td>\n",
       "      <td>1</td>\n",
       "      <td>0.00</td>\n",
       "      <td>1</td>\n",
       "      <td>N</td>\n",
       "      <td>7</td>\n",
       "      <td>193</td>\n",
       "      <td>2</td>\n",
       "      <td>0.0</td>\n",
       "      <td>0.0</td>\n",
       "      <td>0.0</td>\n",
       "      <td>0.00</td>\n",
       "      <td>0.0</td>\n",
       "      <td>0.0</td>\n",
       "      <td>0.00</td>\n",
       "    </tr>\n",
       "  </tbody>\n",
       "</table>\n",
       "</div>"
      ],
      "text/plain": [
       "         VendorID tpep_pickup_datetime tpep_dropoff_datetime  passenger_count  \\\n",
       "8759869         1  2018-01-31 23:21:35   2018-01-31 23:34:20                2   \n",
       "8759870         1  2018-01-31 23:35:51   2018-01-31 23:38:57                1   \n",
       "8759871         2  2018-01-31 23:28:00   2018-01-31 23:37:09                1   \n",
       "8759872         2  2018-01-31 23:24:40   2018-01-31 23:25:28                1   \n",
       "8759873         2  2018-01-31 23:28:16   2018-01-31 23:28:38                1   \n",
       "\n",
       "         trip_distance  RatecodeID store_and_fwd_flag  PULocationID  \\\n",
       "8759869           2.80           1                  N           158   \n",
       "8759870           0.60           1                  N           163   \n",
       "8759871           2.95           1                  N            74   \n",
       "8759872           0.00           1                  N             7   \n",
       "8759873           0.00           1                  N             7   \n",
       "\n",
       "         DOLocationID  payment_type  fare_amount  extra  mta_tax  tip_amount  \\\n",
       "8759869           163             1         12.0    0.5      0.5        2.65   \n",
       "8759870           162             1          4.5    0.5      0.5        1.15   \n",
       "8759871            69             2         10.5    0.5      0.5        0.00   \n",
       "8759872           193             2          0.0    0.0      0.0        0.00   \n",
       "8759873           193             2          0.0    0.0      0.0        0.00   \n",
       "\n",
       "         tolls_amount  improvement_surcharge  total_amount  \n",
       "8759869           0.0                    0.3         15.95  \n",
       "8759870           0.0                    0.3          6.95  \n",
       "8759871           0.0                    0.3         11.80  \n",
       "8759872           0.0                    0.0          0.00  \n",
       "8759873           0.0                    0.0          0.00  "
      ]
     },
     "execution_count": 2,
     "metadata": {},
     "output_type": "execute_result"
    }
   ],
   "source": [
    "df.tail()"
   ]
  },
  {
   "cell_type": "markdown",
   "metadata": {},
   "source": [
    "***"
   ]
  },
  {
   "cell_type": "markdown",
   "metadata": {},
   "source": [
    "# <font color=orange>2. Data Cleaning</font>\n",
    "### <font color=red>Remove VendorID Column</font>\n",
    "\n",
    "The data for the most part is clean, there are no null or n/a values to worry about. We will do further cleaning to cut down on the size of the data to save time when we run the analysis since the the dataset is so big.\n",
    "\n",
    "We will first start by deleting the first column __VendorID__ since that data is not relevant."
   ]
  },
  {
   "cell_type": "code",
   "execution_count": 3,
   "metadata": {},
   "outputs": [],
   "source": [
    "df = df.drop(['VendorID'], axis=1)\n",
    "\n",
    "#df.head(10)"
   ]
  },
  {
   "cell_type": "markdown",
   "metadata": {},
   "source": [
    "### <font color=red>Remove All Types of Fares Besides Standard Fares</font>\n",
    "We will remove Airport Fares, Nassau or Westchester Fares, Negotiated Fares, and Group Fares, leaving only Standard Fares for this analysis.\n",
    "<br> __(Standard Fare = 1)__"
   ]
  },
  {
   "cell_type": "code",
   "execution_count": 4,
   "metadata": {},
   "outputs": [
    {
     "data": {
      "text/plain": [
       "1     8532501\n",
       "2      179261\n",
       "5       27730\n",
       "3       15127\n",
       "4        5080\n",
       "99        106\n",
       "6          69\n",
       "Name: RatecodeID, dtype: int64"
      ]
     },
     "execution_count": 4,
     "metadata": {},
     "output_type": "execute_result"
    }
   ],
   "source": [
    "#Before\n",
    "df['RatecodeID'].value_counts()"
   ]
  },
  {
   "cell_type": "code",
   "execution_count": 5,
   "metadata": {},
   "outputs": [
    {
     "data": {
      "text/plain": [
       "1    8532501\n",
       "Name: RatecodeID, dtype: int64"
      ]
     },
     "execution_count": 5,
     "metadata": {},
     "output_type": "execute_result"
    }
   ],
   "source": [
    "#After\n",
    "df = df[df.RatecodeID == 1]\n",
    "df['RatecodeID'].value_counts()"
   ]
  },
  {
   "cell_type": "markdown",
   "metadata": {},
   "source": [
    "### <font color=red>Remove \"Yes\" from Store and Forward payments and Delete Column</font>\n",
    "Removing \"Yes\" from Store and Forward payments so the coresponding rows are not included in the data we analyse. The reason is they could have potential issues with accuratcy since they are a result of a system server failure.\n",
    "\n",
    "After removing the \"Yes\" values, we will delete the column because the column is no longer needed.\n",
    "<br> __(Store and Forward != Y)__"
   ]
  },
  {
   "cell_type": "code",
   "execution_count": 6,
   "metadata": {},
   "outputs": [
    {
     "data": {
      "text/plain": [
       "N    8502693\n",
       "Y      29808\n",
       "Name: store_and_fwd_flag, dtype: int64"
      ]
     },
     "execution_count": 6,
     "metadata": {},
     "output_type": "execute_result"
    }
   ],
   "source": [
    "#Before\n",
    "df['store_and_fwd_flag'].value_counts()"
   ]
  },
  {
   "cell_type": "code",
   "execution_count": 7,
   "metadata": {},
   "outputs": [
    {
     "data": {
      "text/plain": [
       "N    8502693\n",
       "Name: store_and_fwd_flag, dtype: int64"
      ]
     },
     "execution_count": 7,
     "metadata": {},
     "output_type": "execute_result"
    }
   ],
   "source": [
    "#After\n",
    "df = df[df.store_and_fwd_flag != 'Y']\n",
    "df['store_and_fwd_flag'].value_counts()"
   ]
  },
  {
   "cell_type": "code",
   "execution_count": 8,
   "metadata": {},
   "outputs": [
    {
     "data": {
      "text/html": [
       "<div>\n",
       "<style scoped>\n",
       "    .dataframe tbody tr th:only-of-type {\n",
       "        vertical-align: middle;\n",
       "    }\n",
       "\n",
       "    .dataframe tbody tr th {\n",
       "        vertical-align: top;\n",
       "    }\n",
       "\n",
       "    .dataframe thead th {\n",
       "        text-align: right;\n",
       "    }\n",
       "</style>\n",
       "<table border=\"1\" class=\"dataframe\">\n",
       "  <thead>\n",
       "    <tr style=\"text-align: right;\">\n",
       "      <th></th>\n",
       "      <th>tpep_pickup_datetime</th>\n",
       "      <th>tpep_dropoff_datetime</th>\n",
       "      <th>passenger_count</th>\n",
       "      <th>trip_distance</th>\n",
       "      <th>RatecodeID</th>\n",
       "      <th>PULocationID</th>\n",
       "      <th>DOLocationID</th>\n",
       "      <th>payment_type</th>\n",
       "      <th>fare_amount</th>\n",
       "      <th>extra</th>\n",
       "      <th>mta_tax</th>\n",
       "      <th>tip_amount</th>\n",
       "      <th>tolls_amount</th>\n",
       "      <th>improvement_surcharge</th>\n",
       "      <th>total_amount</th>\n",
       "    </tr>\n",
       "  </thead>\n",
       "  <tbody>\n",
       "    <tr>\n",
       "      <th>0</th>\n",
       "      <td>2018-01-01 00:21:05</td>\n",
       "      <td>2018-01-01 00:24:23</td>\n",
       "      <td>1</td>\n",
       "      <td>0.5</td>\n",
       "      <td>1</td>\n",
       "      <td>41</td>\n",
       "      <td>24</td>\n",
       "      <td>2</td>\n",
       "      <td>4.5</td>\n",
       "      <td>0.5</td>\n",
       "      <td>0.5</td>\n",
       "      <td>0.00</td>\n",
       "      <td>0.0</td>\n",
       "      <td>0.3</td>\n",
       "      <td>5.80</td>\n",
       "    </tr>\n",
       "    <tr>\n",
       "      <th>1</th>\n",
       "      <td>2018-01-01 00:44:55</td>\n",
       "      <td>2018-01-01 01:03:05</td>\n",
       "      <td>1</td>\n",
       "      <td>2.7</td>\n",
       "      <td>1</td>\n",
       "      <td>239</td>\n",
       "      <td>140</td>\n",
       "      <td>2</td>\n",
       "      <td>14.0</td>\n",
       "      <td>0.5</td>\n",
       "      <td>0.5</td>\n",
       "      <td>0.00</td>\n",
       "      <td>0.0</td>\n",
       "      <td>0.3</td>\n",
       "      <td>15.30</td>\n",
       "    </tr>\n",
       "    <tr>\n",
       "      <th>2</th>\n",
       "      <td>2018-01-01 00:08:26</td>\n",
       "      <td>2018-01-01 00:14:21</td>\n",
       "      <td>2</td>\n",
       "      <td>0.8</td>\n",
       "      <td>1</td>\n",
       "      <td>262</td>\n",
       "      <td>141</td>\n",
       "      <td>1</td>\n",
       "      <td>6.0</td>\n",
       "      <td>0.5</td>\n",
       "      <td>0.5</td>\n",
       "      <td>1.00</td>\n",
       "      <td>0.0</td>\n",
       "      <td>0.3</td>\n",
       "      <td>8.30</td>\n",
       "    </tr>\n",
       "    <tr>\n",
       "      <th>3</th>\n",
       "      <td>2018-01-01 00:20:22</td>\n",
       "      <td>2018-01-01 00:52:51</td>\n",
       "      <td>1</td>\n",
       "      <td>10.2</td>\n",
       "      <td>1</td>\n",
       "      <td>140</td>\n",
       "      <td>257</td>\n",
       "      <td>2</td>\n",
       "      <td>33.5</td>\n",
       "      <td>0.5</td>\n",
       "      <td>0.5</td>\n",
       "      <td>0.00</td>\n",
       "      <td>0.0</td>\n",
       "      <td>0.3</td>\n",
       "      <td>34.80</td>\n",
       "    </tr>\n",
       "    <tr>\n",
       "      <th>4</th>\n",
       "      <td>2018-01-01 00:09:18</td>\n",
       "      <td>2018-01-01 00:27:06</td>\n",
       "      <td>2</td>\n",
       "      <td>2.5</td>\n",
       "      <td>1</td>\n",
       "      <td>246</td>\n",
       "      <td>239</td>\n",
       "      <td>1</td>\n",
       "      <td>12.5</td>\n",
       "      <td>0.5</td>\n",
       "      <td>0.5</td>\n",
       "      <td>2.75</td>\n",
       "      <td>0.0</td>\n",
       "      <td>0.3</td>\n",
       "      <td>16.55</td>\n",
       "    </tr>\n",
       "  </tbody>\n",
       "</table>\n",
       "</div>"
      ],
      "text/plain": [
       "  tpep_pickup_datetime tpep_dropoff_datetime  passenger_count  trip_distance  \\\n",
       "0  2018-01-01 00:21:05   2018-01-01 00:24:23                1            0.5   \n",
       "1  2018-01-01 00:44:55   2018-01-01 01:03:05                1            2.7   \n",
       "2  2018-01-01 00:08:26   2018-01-01 00:14:21                2            0.8   \n",
       "3  2018-01-01 00:20:22   2018-01-01 00:52:51                1           10.2   \n",
       "4  2018-01-01 00:09:18   2018-01-01 00:27:06                2            2.5   \n",
       "\n",
       "   RatecodeID  PULocationID  DOLocationID  payment_type  fare_amount  extra  \\\n",
       "0           1            41            24             2          4.5    0.5   \n",
       "1           1           239           140             2         14.0    0.5   \n",
       "2           1           262           141             1          6.0    0.5   \n",
       "3           1           140           257             2         33.5    0.5   \n",
       "4           1           246           239             1         12.5    0.5   \n",
       "\n",
       "   mta_tax  tip_amount  tolls_amount  improvement_surcharge  total_amount  \n",
       "0      0.5        0.00           0.0                    0.3          5.80  \n",
       "1      0.5        0.00           0.0                    0.3         15.30  \n",
       "2      0.5        1.00           0.0                    0.3          8.30  \n",
       "3      0.5        0.00           0.0                    0.3         34.80  \n",
       "4      0.5        2.75           0.0                    0.3         16.55  "
      ]
     },
     "execution_count": 8,
     "metadata": {},
     "output_type": "execute_result"
    }
   ],
   "source": [
    "#Deleting Column\n",
    "df = df.drop(['store_and_fwd_flag'], axis=1)\n",
    "df.head()"
   ]
  },
  {
   "cell_type": "markdown",
   "metadata": {},
   "source": [
    "### <font color=red>Remove All Payment Types Besides Credit Card</font>\n",
    "Since Credit Card is the only way Tips were able to be recorded in this data, we must remove the other payment types (Cash, No Charge, Dispute, Unknown or Voided) since the other payment types will not have the required data we need.\n",
    "\n",
    "We will keep Credit Cards\n",
    "<br> __(Credit Cards = 1)__\n"
   ]
  },
  {
   "cell_type": "code",
   "execution_count": 9,
   "metadata": {},
   "outputs": [
    {
     "data": {
      "text/plain": [
       "1    5915730\n",
       "2    2536829\n",
       "3      39210\n",
       "4      10924\n",
       "Name: payment_type, dtype: int64"
      ]
     },
     "execution_count": 9,
     "metadata": {},
     "output_type": "execute_result"
    }
   ],
   "source": [
    "#Before\n",
    "df['payment_type'].value_counts()"
   ]
  },
  {
   "cell_type": "code",
   "execution_count": 10,
   "metadata": {},
   "outputs": [
    {
     "data": {
      "text/plain": [
       "1    5915730\n",
       "Name: payment_type, dtype: int64"
      ]
     },
     "execution_count": 10,
     "metadata": {},
     "output_type": "execute_result"
    }
   ],
   "source": [
    "#After\n",
    "df = df[df.payment_type == 1]\n",
    "df['payment_type'].value_counts()"
   ]
  },
  {
   "cell_type": "markdown",
   "metadata": {},
   "source": [
    "### <font color=red>Remove Passenger Count 0</font>\n",
    "There are some rows of passenger_count data that has the value 0. We will remove these values since at least 1 passenger is needed to pay a taxi fare.\n",
    "<br> __(passenger_count != 0)__\n",
    "<br> There are also 2 rides with 7 passengers and 2 rides with 9 passengers. since the sample size of those quantities is so small, we will remove them as well.\n",
    "<br> __(passenger_count != 7)__\n",
    "<br> __(passenger_count != 9)__"
   ]
  },
  {
   "cell_type": "code",
   "execution_count": 11,
   "metadata": {},
   "outputs": [
    {
     "data": {
      "text/plain": [
       "1    4255821\n",
       "2     837847\n",
       "5     282578\n",
       "3     229907\n",
       "6     169519\n",
       "4     100539\n",
       "0      39515\n",
       "9          2\n",
       "7          2\n",
       "Name: passenger_count, dtype: int64"
      ]
     },
     "execution_count": 11,
     "metadata": {},
     "output_type": "execute_result"
    }
   ],
   "source": [
    "#Before\n",
    "df['passenger_count'].value_counts()"
   ]
  },
  {
   "cell_type": "code",
   "execution_count": 12,
   "metadata": {},
   "outputs": [
    {
     "data": {
      "text/plain": [
       "1    4255821\n",
       "2     837847\n",
       "5     282578\n",
       "3     229907\n",
       "6     169519\n",
       "4     100539\n",
       "Name: passenger_count, dtype: int64"
      ]
     },
     "execution_count": 12,
     "metadata": {},
     "output_type": "execute_result"
    }
   ],
   "source": [
    "#After\n",
    "df = df[df.passenger_count != 0]\n",
    "df = df[df.passenger_count != 7]\n",
    "df = df[df.passenger_count != 9]\n",
    "df['passenger_count'].value_counts()"
   ]
  },
  {
   "cell_type": "code",
   "execution_count": 13,
   "metadata": {},
   "outputs": [
    {
     "data": {
      "text/html": [
       "<div>\n",
       "<style scoped>\n",
       "    .dataframe tbody tr th:only-of-type {\n",
       "        vertical-align: middle;\n",
       "    }\n",
       "\n",
       "    .dataframe tbody tr th {\n",
       "        vertical-align: top;\n",
       "    }\n",
       "\n",
       "    .dataframe thead th {\n",
       "        text-align: right;\n",
       "    }\n",
       "</style>\n",
       "<table border=\"1\" class=\"dataframe\">\n",
       "  <thead>\n",
       "    <tr style=\"text-align: right;\">\n",
       "      <th></th>\n",
       "      <th>tpep_pickup_datetime</th>\n",
       "      <th>tpep_dropoff_datetime</th>\n",
       "      <th>passenger_count</th>\n",
       "      <th>trip_distance</th>\n",
       "      <th>RatecodeID</th>\n",
       "      <th>PULocationID</th>\n",
       "      <th>DOLocationID</th>\n",
       "      <th>payment_type</th>\n",
       "      <th>fare_amount</th>\n",
       "      <th>extra</th>\n",
       "      <th>mta_tax</th>\n",
       "      <th>tip_amount</th>\n",
       "      <th>tolls_amount</th>\n",
       "      <th>improvement_surcharge</th>\n",
       "      <th>total_amount</th>\n",
       "    </tr>\n",
       "  </thead>\n",
       "  <tbody>\n",
       "    <tr>\n",
       "      <th>8759860</th>\n",
       "      <td>2018-01-31 23:54:57</td>\n",
       "      <td>2018-02-01 00:29:56</td>\n",
       "      <td>1</td>\n",
       "      <td>13.90</td>\n",
       "      <td>1</td>\n",
       "      <td>186</td>\n",
       "      <td>16</td>\n",
       "      <td>1</td>\n",
       "      <td>42.0</td>\n",
       "      <td>0.5</td>\n",
       "      <td>0.5</td>\n",
       "      <td>15.00</td>\n",
       "      <td>5.76</td>\n",
       "      <td>0.3</td>\n",
       "      <td>64.06</td>\n",
       "    </tr>\n",
       "    <tr>\n",
       "      <th>8759866</th>\n",
       "      <td>2018-01-31 23:52:53</td>\n",
       "      <td>2018-01-31 23:57:32</td>\n",
       "      <td>1</td>\n",
       "      <td>1.20</td>\n",
       "      <td>1</td>\n",
       "      <td>43</td>\n",
       "      <td>162</td>\n",
       "      <td>1</td>\n",
       "      <td>6.0</td>\n",
       "      <td>0.5</td>\n",
       "      <td>0.5</td>\n",
       "      <td>1.50</td>\n",
       "      <td>0.00</td>\n",
       "      <td>0.3</td>\n",
       "      <td>8.80</td>\n",
       "    </tr>\n",
       "    <tr>\n",
       "      <th>8759867</th>\n",
       "      <td>2018-01-31 23:20:51</td>\n",
       "      <td>2018-01-31 23:30:51</td>\n",
       "      <td>1</td>\n",
       "      <td>1.65</td>\n",
       "      <td>1</td>\n",
       "      <td>234</td>\n",
       "      <td>158</td>\n",
       "      <td>1</td>\n",
       "      <td>8.5</td>\n",
       "      <td>0.5</td>\n",
       "      <td>0.5</td>\n",
       "      <td>2.45</td>\n",
       "      <td>0.00</td>\n",
       "      <td>0.3</td>\n",
       "      <td>12.25</td>\n",
       "    </tr>\n",
       "    <tr>\n",
       "      <th>8759869</th>\n",
       "      <td>2018-01-31 23:21:35</td>\n",
       "      <td>2018-01-31 23:34:20</td>\n",
       "      <td>2</td>\n",
       "      <td>2.80</td>\n",
       "      <td>1</td>\n",
       "      <td>158</td>\n",
       "      <td>163</td>\n",
       "      <td>1</td>\n",
       "      <td>12.0</td>\n",
       "      <td>0.5</td>\n",
       "      <td>0.5</td>\n",
       "      <td>2.65</td>\n",
       "      <td>0.00</td>\n",
       "      <td>0.3</td>\n",
       "      <td>15.95</td>\n",
       "    </tr>\n",
       "    <tr>\n",
       "      <th>8759870</th>\n",
       "      <td>2018-01-31 23:35:51</td>\n",
       "      <td>2018-01-31 23:38:57</td>\n",
       "      <td>1</td>\n",
       "      <td>0.60</td>\n",
       "      <td>1</td>\n",
       "      <td>163</td>\n",
       "      <td>162</td>\n",
       "      <td>1</td>\n",
       "      <td>4.5</td>\n",
       "      <td>0.5</td>\n",
       "      <td>0.5</td>\n",
       "      <td>1.15</td>\n",
       "      <td>0.00</td>\n",
       "      <td>0.3</td>\n",
       "      <td>6.95</td>\n",
       "    </tr>\n",
       "  </tbody>\n",
       "</table>\n",
       "</div>"
      ],
      "text/plain": [
       "        tpep_pickup_datetime tpep_dropoff_datetime  passenger_count  \\\n",
       "8759860  2018-01-31 23:54:57   2018-02-01 00:29:56                1   \n",
       "8759866  2018-01-31 23:52:53   2018-01-31 23:57:32                1   \n",
       "8759867  2018-01-31 23:20:51   2018-01-31 23:30:51                1   \n",
       "8759869  2018-01-31 23:21:35   2018-01-31 23:34:20                2   \n",
       "8759870  2018-01-31 23:35:51   2018-01-31 23:38:57                1   \n",
       "\n",
       "         trip_distance  RatecodeID  PULocationID  DOLocationID  payment_type  \\\n",
       "8759860          13.90           1           186            16             1   \n",
       "8759866           1.20           1            43           162             1   \n",
       "8759867           1.65           1           234           158             1   \n",
       "8759869           2.80           1           158           163             1   \n",
       "8759870           0.60           1           163           162             1   \n",
       "\n",
       "         fare_amount  extra  mta_tax  tip_amount  tolls_amount  \\\n",
       "8759860         42.0    0.5      0.5       15.00          5.76   \n",
       "8759866          6.0    0.5      0.5        1.50          0.00   \n",
       "8759867          8.5    0.5      0.5        2.45          0.00   \n",
       "8759869         12.0    0.5      0.5        2.65          0.00   \n",
       "8759870          4.5    0.5      0.5        1.15          0.00   \n",
       "\n",
       "         improvement_surcharge  total_amount  \n",
       "8759860                    0.3         64.06  \n",
       "8759866                    0.3          8.80  \n",
       "8759867                    0.3         12.25  \n",
       "8759869                    0.3         15.95  \n",
       "8759870                    0.3          6.95  "
      ]
     },
     "execution_count": 13,
     "metadata": {},
     "output_type": "execute_result"
    }
   ],
   "source": [
    "df.tail()"
   ]
  },
  {
   "cell_type": "markdown",
   "metadata": {},
   "source": [
    "### <font color=red>Remove Outliers for Tips</font>\n",
    "Next, we will attempt to remove outliers. with the following code"
   ]
  },
  {
   "cell_type": "code",
   "execution_count": 14,
   "metadata": {},
   "outputs": [
    {
     "data": {
      "text/plain": [
       "count    5.876211e+06\n",
       "mean     2.381514e+00\n",
       "std      2.020495e+00\n",
       "min      0.000000e+00\n",
       "25%      1.260000e+00\n",
       "50%      1.950000e+00\n",
       "75%      2.800000e+00\n",
       "max      4.417100e+02\n",
       "Name: tip_amount, dtype: float64"
      ]
     },
     "execution_count": 14,
     "metadata": {},
     "output_type": "execute_result"
    }
   ],
   "source": [
    "df['tip_amount'].describe()\n",
    "#As seen below, the 3rd quartile is much MUCH smaller than the Max, additional cleanup likely necessay for outliers"
   ]
  },
  {
   "cell_type": "markdown",
   "metadata": {},
   "source": [
    "As seen above, the 3rd quartile for all of the tip amounts starts at \\$2.80 but the maximum tip amount was \\$66. This means there are definitely outliers.\n",
    "\n",
    "For this Capstone, "
   ]
  },
  {
   "cell_type": "markdown",
   "metadata": {},
   "source": [
    "### <font color=red>Reindex</font>\n",
    "Reindexing to make it nicer"
   ]
  },
  {
   "cell_type": "code",
   "execution_count": 15,
   "metadata": {},
   "outputs": [
    {
     "name": "stdout",
     "output_type": "stream",
     "text": [
      "number of rows = 5876211\n"
     ]
    },
    {
     "data": {
      "text/html": [
       "<div>\n",
       "<style scoped>\n",
       "    .dataframe tbody tr th:only-of-type {\n",
       "        vertical-align: middle;\n",
       "    }\n",
       "\n",
       "    .dataframe tbody tr th {\n",
       "        vertical-align: top;\n",
       "    }\n",
       "\n",
       "    .dataframe thead th {\n",
       "        text-align: right;\n",
       "    }\n",
       "</style>\n",
       "<table border=\"1\" class=\"dataframe\">\n",
       "  <thead>\n",
       "    <tr style=\"text-align: right;\">\n",
       "      <th></th>\n",
       "      <th>tpep_pickup_datetime</th>\n",
       "      <th>tpep_dropoff_datetime</th>\n",
       "      <th>passenger_count</th>\n",
       "      <th>trip_distance</th>\n",
       "      <th>RatecodeID</th>\n",
       "      <th>PULocationID</th>\n",
       "      <th>DOLocationID</th>\n",
       "      <th>payment_type</th>\n",
       "      <th>fare_amount</th>\n",
       "      <th>extra</th>\n",
       "      <th>mta_tax</th>\n",
       "      <th>tip_amount</th>\n",
       "      <th>tolls_amount</th>\n",
       "      <th>improvement_surcharge</th>\n",
       "      <th>total_amount</th>\n",
       "    </tr>\n",
       "  </thead>\n",
       "  <tbody>\n",
       "    <tr>\n",
       "      <th>5876206</th>\n",
       "      <td>2018-01-31 23:54:57</td>\n",
       "      <td>2018-02-01 00:29:56</td>\n",
       "      <td>1</td>\n",
       "      <td>13.90</td>\n",
       "      <td>1</td>\n",
       "      <td>186</td>\n",
       "      <td>16</td>\n",
       "      <td>1</td>\n",
       "      <td>42.0</td>\n",
       "      <td>0.5</td>\n",
       "      <td>0.5</td>\n",
       "      <td>15.00</td>\n",
       "      <td>5.76</td>\n",
       "      <td>0.3</td>\n",
       "      <td>64.06</td>\n",
       "    </tr>\n",
       "    <tr>\n",
       "      <th>5876207</th>\n",
       "      <td>2018-01-31 23:52:53</td>\n",
       "      <td>2018-01-31 23:57:32</td>\n",
       "      <td>1</td>\n",
       "      <td>1.20</td>\n",
       "      <td>1</td>\n",
       "      <td>43</td>\n",
       "      <td>162</td>\n",
       "      <td>1</td>\n",
       "      <td>6.0</td>\n",
       "      <td>0.5</td>\n",
       "      <td>0.5</td>\n",
       "      <td>1.50</td>\n",
       "      <td>0.00</td>\n",
       "      <td>0.3</td>\n",
       "      <td>8.80</td>\n",
       "    </tr>\n",
       "    <tr>\n",
       "      <th>5876208</th>\n",
       "      <td>2018-01-31 23:20:51</td>\n",
       "      <td>2018-01-31 23:30:51</td>\n",
       "      <td>1</td>\n",
       "      <td>1.65</td>\n",
       "      <td>1</td>\n",
       "      <td>234</td>\n",
       "      <td>158</td>\n",
       "      <td>1</td>\n",
       "      <td>8.5</td>\n",
       "      <td>0.5</td>\n",
       "      <td>0.5</td>\n",
       "      <td>2.45</td>\n",
       "      <td>0.00</td>\n",
       "      <td>0.3</td>\n",
       "      <td>12.25</td>\n",
       "    </tr>\n",
       "    <tr>\n",
       "      <th>5876209</th>\n",
       "      <td>2018-01-31 23:21:35</td>\n",
       "      <td>2018-01-31 23:34:20</td>\n",
       "      <td>2</td>\n",
       "      <td>2.80</td>\n",
       "      <td>1</td>\n",
       "      <td>158</td>\n",
       "      <td>163</td>\n",
       "      <td>1</td>\n",
       "      <td>12.0</td>\n",
       "      <td>0.5</td>\n",
       "      <td>0.5</td>\n",
       "      <td>2.65</td>\n",
       "      <td>0.00</td>\n",
       "      <td>0.3</td>\n",
       "      <td>15.95</td>\n",
       "    </tr>\n",
       "    <tr>\n",
       "      <th>5876210</th>\n",
       "      <td>2018-01-31 23:35:51</td>\n",
       "      <td>2018-01-31 23:38:57</td>\n",
       "      <td>1</td>\n",
       "      <td>0.60</td>\n",
       "      <td>1</td>\n",
       "      <td>163</td>\n",
       "      <td>162</td>\n",
       "      <td>1</td>\n",
       "      <td>4.5</td>\n",
       "      <td>0.5</td>\n",
       "      <td>0.5</td>\n",
       "      <td>1.15</td>\n",
       "      <td>0.00</td>\n",
       "      <td>0.3</td>\n",
       "      <td>6.95</td>\n",
       "    </tr>\n",
       "  </tbody>\n",
       "</table>\n",
       "</div>"
      ],
      "text/plain": [
       "        tpep_pickup_datetime tpep_dropoff_datetime  passenger_count  \\\n",
       "5876206  2018-01-31 23:54:57   2018-02-01 00:29:56                1   \n",
       "5876207  2018-01-31 23:52:53   2018-01-31 23:57:32                1   \n",
       "5876208  2018-01-31 23:20:51   2018-01-31 23:30:51                1   \n",
       "5876209  2018-01-31 23:21:35   2018-01-31 23:34:20                2   \n",
       "5876210  2018-01-31 23:35:51   2018-01-31 23:38:57                1   \n",
       "\n",
       "         trip_distance  RatecodeID  PULocationID  DOLocationID  payment_type  \\\n",
       "5876206          13.90           1           186            16             1   \n",
       "5876207           1.20           1            43           162             1   \n",
       "5876208           1.65           1           234           158             1   \n",
       "5876209           2.80           1           158           163             1   \n",
       "5876210           0.60           1           163           162             1   \n",
       "\n",
       "         fare_amount  extra  mta_tax  tip_amount  tolls_amount  \\\n",
       "5876206         42.0    0.5      0.5       15.00          5.76   \n",
       "5876207          6.0    0.5      0.5        1.50          0.00   \n",
       "5876208          8.5    0.5      0.5        2.45          0.00   \n",
       "5876209         12.0    0.5      0.5        2.65          0.00   \n",
       "5876210          4.5    0.5      0.5        1.15          0.00   \n",
       "\n",
       "         improvement_surcharge  total_amount  \n",
       "5876206                    0.3         64.06  \n",
       "5876207                    0.3          8.80  \n",
       "5876208                    0.3         12.25  \n",
       "5876209                    0.3         15.95  \n",
       "5876210                    0.3          6.95  "
      ]
     },
     "execution_count": 15,
     "metadata": {},
     "output_type": "execute_result"
    }
   ],
   "source": [
    "#reindexing\n",
    "df = df.reset_index(drop=True)\n",
    "#number of rows\n",
    "print(\"number of rows = \" + str(df.shape[0]))\n",
    "df.tail()"
   ]
  },
  {
   "cell_type": "markdown",
   "metadata": {},
   "source": [
    "## <font color=green>Our Data is Now Clean and Optimized For Vizualization and Analysis!</font>\n",
    "***"
   ]
  },
  {
   "cell_type": "markdown",
   "metadata": {},
   "source": [
    "# <font color=orange>3. Data Vizualization</font>"
   ]
  },
  {
   "cell_type": "code",
   "execution_count": 16,
   "metadata": {},
   "outputs": [],
   "source": [
    "import matplotlib.pyplot as plt\n",
    "\n",
    "a = df.loc[df['passenger_count'] == 1,:]\n",
    "b = df.loc[df['passenger_count'] == 2,:]\n",
    "c = df.loc[df['passenger_count'] == 3,:]\n",
    "d = df.loc[df['passenger_count'] == 4,:]\n",
    "e = df.loc[df['passenger_count'] == 5,:]\n",
    "f = df.loc[df['passenger_count'] == 6,:]"
   ]
  },
  {
   "cell_type": "markdown",
   "metadata": {},
   "source": [
    "## <font color=red>BoxPlot of Tip Amounts per Passenger Count </font>\n",
    "Boxplot of Passenger Count and Tip Amount shows how many Outliers there are in this dataset."
   ]
  },
  {
   "cell_type": "code",
   "execution_count": 17,
   "metadata": {},
   "outputs": [
    {
     "data": {
      "image/png": "[encoded data removed]",
      "text/plain": [
       "<Figure size 432x288 with 1 Axes>"
      ]
     },
     "metadata": {
      "needs_background": "light"
     },
     "output_type": "display_data"
    },
    {
     "name": "stdout",
     "output_type": "stream",
     "text": [
      "count    5.876211e+06\n",
      "mean     2.381514e+00\n",
      "std      2.020495e+00\n",
      "min      0.000000e+00\n",
      "25%      1.260000e+00\n",
      "50%      1.950000e+00\n",
      "75%      2.800000e+00\n",
      "max      4.417100e+02\n",
      "Name: tip_amount, dtype: float64\n"
     ]
    }
   ],
   "source": [
    "passtipbox = [a['tip_amount'], b['tip_amount'], c['tip_amount'], d['tip_amount'], e['tip_amount'], f['tip_amount']]\n",
    "plt.boxplot(passtipbox)\n",
    "plt.gca().set_xticklabels(['1', '2', '3', '4', '5', '6'])\n",
    "plt.xlabel('Passenger Count')\n",
    "plt.ylabel('Tip Amounts')\n",
    "plt.title('Tip Amount per Passenger Count')\n",
    "plt.show()\n",
    "print(df['tip_amount'].describe())"
   ]
  },
  {
   "cell_type": "markdown",
   "metadata": {},
   "source": [
    "Already, we see that 4 passenger count has less tip amounts than the rest of the passener counts."
   ]
  },
  {
   "cell_type": "markdown",
   "metadata": {},
   "source": [
    "## <font color=red>Removing Outliers </font>\n",
    "\n",
    "As we saw above, there are too many outliers that will heavily skew the data. In the next step we will cut down the skewed data by capping the max tip amount in our dataset to $10"
   ]
  },
  {
   "cell_type": "code",
   "execution_count": 18,
   "metadata": {},
   "outputs": [
    {
     "data": {
      "image/png": "[encoded data removed]",
      "text/plain": [
       "<Figure size 432x288 with 1 Axes>"
      ]
     },
     "metadata": {
      "needs_background": "light"
     },
     "output_type": "display_data"
    },
    {
     "name": "stdout",
     "output_type": "stream",
     "text": [
      "count    5.825688e+06\n",
      "mean     2.290362e+00\n",
      "std      1.621761e+00\n",
      "min      0.000000e+00\n",
      "25%      1.260000e+00\n",
      "50%      1.950000e+00\n",
      "75%      2.760000e+00\n",
      "max      1.000000e+01\n",
      "Name: tip_amount, dtype: float64\n"
     ]
    }
   ],
   "source": [
    "#Max Tip amount set to $10\n",
    "df_out = df[df.tip_amount <= 10]\n",
    "\n",
    "\n",
    "a = df_out.loc[df['passenger_count'] == 1,:]\n",
    "b = df_out.loc[df['passenger_count'] == 2,:]\n",
    "c = df_out.loc[df['passenger_count'] == 3,:]\n",
    "d = df_out.loc[df['passenger_count'] == 4,:]\n",
    "e = df_out.loc[df['passenger_count'] == 5,:]\n",
    "f = df_out.loc[df['passenger_count'] == 6,:]\n",
    "\n",
    "\n",
    "\n",
    "\n",
    "passtipbox = [a['tip_amount'], b['tip_amount'], c['tip_amount'], d['tip_amount'], e['tip_amount'], f['tip_amount']]\n",
    "plt.boxplot(passtipbox)\n",
    "plt.gca().set_xticklabels(['1', '2', '3', '4', '5', '6'])\n",
    "plt.xlabel('Passenger Count')\n",
    "plt.ylabel('Tip Amounts')\n",
    "plt.title('Tip Amount per Passenger Count')\n",
    "plt.show()\n",
    "print(df_out['tip_amount'].describe())"
   ]
  },
  {
   "cell_type": "markdown",
   "metadata": {},
   "source": [
    "## <font color=red>Distribution of Dollars Tipped </font>\n",
    "\n",
    "The following is a histogram that shows us the distribution of amount tipped is skewed to the Left with the majority of tips being $1"
   ]
  },
  {
   "cell_type": "code",
   "execution_count": 19,
   "metadata": {
    "scrolled": true
   },
   "outputs": [
    {
     "data": {
      "image/png": "[encoded data removed]",
      "text/plain": [
       "<Figure size 432x288 with 1 Axes>"
      ]
     },
     "metadata": {
      "needs_background": "light"
     },
     "output_type": "display_data"
    }
   ],
   "source": [
    "t_hist = df_out['tip_amount']\n",
    "\n",
    "plt.hist(t_hist, 10, align='left')\n",
    "plt.xticks(range(11))\n",
    "plt.xlabel('Dollars Tipped')\n",
    "plt.ylabel('Count of Dollars')\n",
    "plt.show()\n",
    "\n"
   ]
  },
  {
   "cell_type": "markdown",
   "metadata": {},
   "source": [
    "To make this graph more meaningful, we will change the Y Axis to percentage with the following:"
   ]
  },
  {
   "cell_type": "code",
   "execution_count": 20,
   "metadata": {},
   "outputs": [
    {
     "data": {
      "image/png": "[encoded data removed]",
      "text/plain": [
       "<Figure size 432x288 with 1 Axes>"
      ]
     },
     "metadata": {
      "needs_background": "light"
     },
     "output_type": "display_data"
    }
   ],
   "source": [
    "t_hist = df_out['tip_amount']\n",
    "\n",
    "plt.hist(t_hist, 10, align='left', density=True)\n",
    "plt.xticks(range(11))\n",
    "plt.xlabel('Dollars Tipped')\n",
    "plt.ylabel('Percentage of Dollars Tipped')\n",
    "plt.show()"
   ]
  },
  {
   "cell_type": "markdown",
   "metadata": {},
   "source": [
    "## <font color=red>Bar Plot - Instances of Passenger Count, Per Ride </font>\n",
    "Count of Passenger Counts"
   ]
  },
  {
   "cell_type": "code",
   "execution_count": 21,
   "metadata": {},
   "outputs": [
    {
     "data": {
      "image/png": "[encoded data removed]",
      "text/plain": [
       "<Figure size 432x288 with 1 Axes>"
      ]
     },
     "metadata": {
      "needs_background": "light"
     },
     "output_type": "display_data"
    },
    {
     "name": "stdout",
     "output_type": "stream",
     "text": [
      "1    4219652\n",
      "2     830721\n",
      "3     227892\n",
      "4      99647\n",
      "5     279815\n",
      "6     167961\n",
      "Name: passenger_count, dtype: int64\n"
     ]
    }
   ],
   "source": [
    "abc = pd.value_counts(df_out['passenger_count'].values)\n",
    "abcplot = abc.sort_index().plot.bar(title=\"# of Instances of Passenger Counts, per ride\", rot=0)\n",
    "abcplot.set_xlabel(\"Passenger Count\")\n",
    "abcplot.set_ylabel(\"# of Instances\")\n",
    "plt.show()\n",
    "print(df_out['passenger_count'].value_counts().sort_index())"
   ]
  },
  {
   "cell_type": "markdown",
   "metadata": {},
   "source": [
    "## <font color=red>Mean Tip amount per passenger count </font>\n",
    "Average amount of Tip paid per Number of Passengers"
   ]
  },
  {
   "cell_type": "code",
   "execution_count": 22,
   "metadata": {},
   "outputs": [
    {
     "data": {
      "image/png": "[encoded data removed]",
      "text/plain": [
       "<Figure size 432x288 with 1 Axes>"
      ]
     },
     "metadata": {
      "needs_background": "light"
     },
     "output_type": "display_data"
    }
   ],
   "source": [
    "a_mean = a['tip_amount'].mean()\n",
    "b_mean = b['tip_amount'].mean()\n",
    "c_mean = c['tip_amount'].mean()\n",
    "d_mean = d['tip_amount'].mean()\n",
    "e_mean = e['tip_amount'].mean()\n",
    "f_mean = f['tip_amount'].mean()\n",
    "plt.plot(['1', '2', '3', '4', '5', '6'], [a_mean, b_mean, c_mean, d_mean, e_mean, f_mean] , 'ro-')\n",
    "plt.xlabel('Passenger Count')\n",
    "plt.ylabel('Average $Tip')\n",
    "plt.title('Average Tip per Passenger Count')\n",
    "plt.show()"
   ]
  },
  {
   "cell_type": "markdown",
   "metadata": {},
   "source": [
    "# <font color=orange>4. Predictive Analysis</font>"
   ]
  },
  {
   "cell_type": "markdown",
   "metadata": {},
   "source": [
    "## <font color=red>Linear Regression, Without Outliers</font>\n",
    "For the Predictive Analysis, we will run a regression on our dependant variable (tip_amount) and our independent variable (passenger_count)"
   ]
  },
  {
   "cell_type": "code",
   "execution_count": 23,
   "metadata": {},
   "outputs": [],
   "source": [
    "import statsmodels.api as sm\n",
    "import statsmodels.formula.api as smf"
   ]
  },
  {
   "cell_type": "code",
   "execution_count": 24,
   "metadata": {
    "scrolled": true
   },
   "outputs": [
    {
     "name": "stdout",
     "output_type": "stream",
     "text": [
      "passenger_count    0.887434\n",
      "dtype: float64\n"
     ]
    }
   ],
   "source": [
    "#our dependent variable is \"tip_amount\"\n",
    "#our independent variable is \"passenger_count\"\n",
    "x = df_out['passenger_count']\n",
    "y = df_out['tip_amount']\n",
    "\n",
    "model = smf.OLS(y,x)\n",
    "results = model.fit()\n",
    "print(results.params)"
   ]
  },
  {
   "cell_type": "code",
   "execution_count": 25,
   "metadata": {},
   "outputs": [
    {
     "name": "stdout",
     "output_type": "stream",
     "text": [
      "                            OLS Regression Results                            \n",
      "==============================================================================\n",
      "Dep. Variable:             tip_amount   R-squared:                       0.416\n",
      "Model:                            OLS   Adj. R-squared:                  0.416\n",
      "Method:                 Least Squares   F-statistic:                 4.148e+06\n",
      "Date:                Tue, 11 Dec 2018   Prob (F-statistic):               0.00\n",
      "Time:                        15:01:21   Log-Likelihood:            -1.2712e+07\n",
      "No. Observations:             5825688   AIC:                         2.542e+07\n",
      "Df Residuals:                 5825687   BIC:                         2.542e+07\n",
      "Df Model:                           1                                         \n",
      "Covariance Type:            nonrobust                                         \n",
      "===================================================================================\n",
      "                      coef    std err          t      P>|t|      [0.025      0.975]\n",
      "-----------------------------------------------------------------------------------\n",
      "passenger_count     0.8874      0.000   2036.645      0.000       0.887       0.888\n",
      "==============================================================================\n",
      "Omnibus:                   692037.065   Durbin-Watson:                   1.419\n",
      "Prob(Omnibus):                  0.000   Jarque-Bera (JB):          2030698.848\n",
      "Skew:                           0.642   Prob(JB):                         0.00\n",
      "Kurtosis:                       5.592   Cond. No.                         1.00\n",
      "==============================================================================\n",
      "\n",
      "Warnings:\n",
      "[1] Standard Errors assume that the covariance matrix of the errors is correctly specified.\n"
     ]
    }
   ],
   "source": [
    "print(results.summary())"
   ]
  },
  {
   "cell_type": "code",
   "execution_count": 26,
   "metadata": {},
   "outputs": [
    {
     "data": {
      "image/png": "[encoded data removed]",
      "text/plain": [
       "<Figure size 432x288 with 1 Axes>"
      ]
     },
     "metadata": {
      "needs_background": "light"
     },
     "output_type": "display_data"
    }
   ],
   "source": [
    "plt.scatter(df_out.passenger_count, df_out.tip_amount)\n",
    "plt.plot(df_out.passenger_count, results.fittedvalues)\n",
    "plt.xlabel('Passenger Count')\n",
    "plt.ylabel('Tip Amount')\n",
    "plt.title('Trend of Tip Amount per Passenger Count, without outliers')\n",
    "plt.show()"
   ]
  },
  {
   "cell_type": "markdown",
   "metadata": {},
   "source": [
    "## <font color=red>Regression Results </font>\n",
    "As we see above in the summary as well as the graph, our final equation for the regression line is:\n",
    "\n",
    "Y = 0 + 0.887434 * B1\n",
    "\n",
    "There is no constant intercept which we can assume means the intercept starts at the origin, (0,0).\n",
    "The slope of the equation suggests that for every additional passenger per ride, tip amount increases by \\$0.89.\n",
    "\n",
    "With a p-value of 0.000, we can reject the null hypothesis and assume that for each additional person in the passenger_count, there is an increase in tip by \\$0.89\n",
    "\n",
    "Our Adjusted R$^2$ is at 0.416 which means passenger_count tells 41.6\\% of the story when it comes to increase in tip_amount. This also makes sense since the tip amount that goes up per passenger increase is less than 1 cent."
   ]
  },
  {
   "cell_type": "markdown",
   "metadata": {},
   "source": [
    "## <font color=red>For Fun, Lets Run a Regression __WITH__ The Outliers </font>"
   ]
  },
  {
   "cell_type": "code",
   "execution_count": 31,
   "metadata": {},
   "outputs": [
    {
     "name": "stdout",
     "output_type": "stream",
     "text": [
      "passenger_count    0.923266\n",
      "dtype: float64\n",
      "count    5.876211e+06\n",
      "mean     1.608757e+00\n",
      "std      1.254236e+00\n",
      "min      1.000000e+00\n",
      "25%      1.000000e+00\n",
      "50%      1.000000e+00\n",
      "75%      2.000000e+00\n",
      "max      6.000000e+00\n",
      "Name: passenger_count, dtype: float64\n"
     ]
    }
   ],
   "source": [
    "x = df['passenger_count'] #our independent variable is \"passenger_count\"\n",
    "y = df['tip_amount'] #our dependent variable is \"tip_amount\"\n",
    "\n",
    "model = smf.OLS(y,x)\n",
    "results = model.fit()\n",
    "print(results.params)"
   ]
  },
  {
   "cell_type": "code",
   "execution_count": 28,
   "metadata": {},
   "outputs": [
    {
     "name": "stdout",
     "output_type": "stream",
     "text": [
      "                            OLS Regression Results                            \n",
      "==============================================================================\n",
      "Dep. Variable:             tip_amount   R-squared:                       0.364\n",
      "Model:                            OLS   Adj. R-squared:                  0.364\n",
      "Method:                 Least Squares   F-statistic:                 3.358e+06\n",
      "Date:                Tue, 11 Dec 2018   Prob (F-statistic):               0.00\n",
      "Time:                        15:01:55   Log-Likelihood:            -1.3702e+07\n",
      "No. Observations:             5876211   AIC:                         2.740e+07\n",
      "Df Residuals:                 5876210   BIC:                         2.740e+07\n",
      "Df Model:                           1                                         \n",
      "Covariance Type:            nonrobust                                         \n",
      "===================================================================================\n",
      "                      coef    std err          t      P>|t|      [0.025      0.975]\n",
      "-----------------------------------------------------------------------------------\n",
      "passenger_count     0.9233      0.001   1832.513      0.000       0.922       0.924\n",
      "==============================================================================\n",
      "Omnibus:                  8838304.400   Durbin-Watson:                   1.525\n",
      "Prob(Omnibus):                  0.000   Jarque-Bera (JB):     139947845174.290\n",
      "Skew:                           8.041   Prob(JB):                         0.00\n",
      "Kurtosis:                     758.861   Cond. No.                         1.00\n",
      "==============================================================================\n",
      "\n",
      "Warnings:\n",
      "[1] Standard Errors assume that the covariance matrix of the errors is correctly specified.\n"
     ]
    }
   ],
   "source": [
    "print(results.summary())"
   ]
  },
  {
   "cell_type": "code",
   "execution_count": 29,
   "metadata": {},
   "outputs": [
    {
     "data": {
      "image/png": "[encoded data removed]",
      "text/plain": [
       "<Figure size 432x288 with 1 Axes>"
      ]
     },
     "metadata": {
      "needs_background": "light"
     },
     "output_type": "display_data"
    }
   ],
   "source": [
    "plt.scatter(df.passenger_count, df.tip_amount)\n",
    "plt.plot(df.passenger_count, results.fittedvalues)\n",
    "plt.xlabel('Passenger Count')\n",
    "plt.ylabel('Tip Amount')\n",
    "plt.title('Trend of Tip Amount per Passenger Count')\n",
    "plt.show()"
   ]
  },
  {
   "cell_type": "markdown",
   "metadata": {},
   "source": [
    "As we see above in the summary as well as the graph WITH Outliers, our final equation for the regression line is:\n",
    "\n",
    "Y = 0 + 0.923266 * B1\n",
    "\n",
    "There is no constant intercept which we can assume means the intercept starts at the origin, (0,0).\n",
    "\n",
    "The slope of the dataset including outliers is higher than the dataset minus the outliers which makes complete sense. The outliers skew the data toward having a bigger impact than it realistically would in statistically significant scenarios.\n",
    "\n",
    "We still have a p-value of 0.000, so we still can reject the null hypothesis and assume that for each additional person in the passenger_count, there is an average increase in tip by \\$0.92\n",
    "\n",
    "Our Adjusted R$^2$ is 0.364, which means passenger_count only tells 36.4\\% of the story when it comes to increase in tip_amount. Because the R$^2$ for the dataset with outliers is smaller than the dataset minus outliers, we assume that cleaning out the outliers made a significant impact on accuracy of the model. Removing outliers was an improvement."
   ]
  }
 ],
 "metadata": {
  "kernelspec": {
   "display_name": "Python 3",
   "language": "python",
   "name": "python3"
  },
  "language_info": {
   "codemirror_mode": {
    "name": "ipython",
    "version": 3
   },
   "file_extension": ".py",
   "mimetype": "text/x-python",
   "name": "python",
   "nbconvert_exporter": "python",
   "pygments_lexer": "ipython3",
   "version": "3.7.0"
  }
 },
 "nbformat": 4,
 "nbformat_minor": 2
}
